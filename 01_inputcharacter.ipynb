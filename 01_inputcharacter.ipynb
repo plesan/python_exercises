{
 "cells": [
  {
   "cell_type": "markdown",
   "metadata": {},
   "source": [
    "## Exercise 1\n",
    "\n",
    "Create a program that asks a user to enter their name and their age. Print out a message addressed to them and tells them the year they will return 100 years old."
   ]
  },
  {
   "cell_type": "code",
   "execution_count": 27,
   "metadata": {},
   "outputs": [
    {
     "name": "stdout",
     "output_type": "stream",
     "text": [
      "Give your name here: Alex\n",
      "Your name is Alex\n",
      "Give your age: 32\n",
      "Your age is 32\n",
      "You will turn to 100 in the year 2088\n"
     ]
    }
   ],
   "source": [
    "name = input(\"Give your name here: \")\n",
    "print(\"Your name is \" + name)\n",
    "age = input(\"Give your age: \")\n",
    "print(\"Your age is \" + age)\n",
    "\n",
    "currentyear = 2020\n",
    "hundread = 100\n",
    "hundredyearsold = currentyear + hundread - int(age)\n",
    "\n",
    "\n",
    "type(currentyear)\n",
    "print(\"You will turn to 100 in the year \" + str(hundredyearsold)) \n"
   ]
  }
 ],
 "metadata": {
  "kernelspec": {
   "display_name": "Python 3",
   "language": "python",
   "name": "python3"
  },
  "language_info": {
   "codemirror_mode": {
    "name": "ipython",
    "version": 3
   },
   "file_extension": ".py",
   "mimetype": "text/x-python",
   "name": "python",
   "nbconvert_exporter": "python",
   "pygments_lexer": "ipython3",
   "version": "3.7.4"
  }
 },
 "nbformat": 4,
 "nbformat_minor": 2
}
