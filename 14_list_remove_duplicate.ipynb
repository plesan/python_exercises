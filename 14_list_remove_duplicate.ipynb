{
 "cells": [
  {
   "cell_type": "markdown",
   "metadata": {},
   "source": [
    "## Exercise 14\n",
    "Write a program (function) that takes a list and return a new list that contains all the elements of the first list minus all the duplicates.\n",
    "\n",
    "Write two different functions to do this. \n",
    "- one using a loop and constructing a list\n",
    "- another use sets"
   ]
  },
  {
   "cell_type": "code",
   "execution_count": 34,
   "metadata": {},
   "outputs": [],
   "source": [
    "import random;\n",
    "\n",
    "# function generates a list randomly\n",
    "def generate_list(numberElement):\n",
    "    l = [random.randint(1,100) for i in range(0,numberElement)]\n",
    "    return(l)\n",
    "\n",
    "# function removes duplicates using set\n",
    "def remove_dup(l):\n",
    "    return(set(l))\n"
   ]
  },
  {
   "cell_type": "code",
   "execution_count": 46,
   "metadata": {},
   "outputs": [
    {
     "name": "stdout",
     "output_type": "stream",
     "text": [
      "list generated randomly \n",
      "[95, 27, 40, 42, 30, 71, 49, 95, 97, 84, 2, 51, 26, 68, 29, 3, 57, 97, 36, 21]\n",
      "length of the list: 20\n",
      "list after removing duplicates: \n",
      "{97, 2, 3, 68, 36, 71, 40, 42, 49, 51, 84, 21, 57, 26, 27, 29, 30, 95}\n",
      "length of the list: 18\n"
     ]
    }
   ],
   "source": [
    "# an example\n",
    "tmp = generate_list(20)\n",
    "print(\"list generated randomly \\n\" + str(tmp))\n",
    "print(\"length of the list: \" + str(len(tmp)))\n",
    "\n",
    "# after removing duplicates\n",
    "tmp = remove_dup(tmp)\n",
    "print(\"list after removing duplicates: \\n\" + str(tmp))\n",
    "print(\"length of the list: \" + str(len(tmp)))"
   ]
  },
  {
   "cell_type": "code",
   "execution_count": null,
   "metadata": {},
   "outputs": [],
   "source": []
  }
 ],
 "metadata": {
  "kernelspec": {
   "display_name": "Python 3",
   "language": "python",
   "name": "python3"
  },
  "language_info": {
   "codemirror_mode": {
    "name": "ipython",
    "version": 3
   },
   "file_extension": ".py",
   "mimetype": "text/x-python",
   "name": "python",
   "nbconvert_exporter": "python",
   "pygments_lexer": "ipython3",
   "version": "3.7.4"
  }
 },
 "nbformat": 4,
 "nbformat_minor": 2
}
