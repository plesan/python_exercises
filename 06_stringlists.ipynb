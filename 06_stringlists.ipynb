{
 "cells": [
  {
   "cell_type": "markdown",
   "metadata": {},
   "source": [
    "## Exercise 6\n",
    "Ask a user for a string and print out whether this string is a panlindrome or not.\n",
    "A *palindrome* is a string that reads the same forward and backwards.\n"
   ]
  },
  {
   "cell_type": "code",
   "execution_count": 111,
   "metadata": {},
   "outputs": [
    {
     "name": "stdout",
     "output_type": "stream",
     "text": [
      "please give a string: heheh\n",
      "heheh is palindrome\n"
     ]
    }
   ],
   "source": [
    "# example: \"atata\" is palindrome\n",
    "\n",
    "mystring = input(\"please give a string: \")\n",
    "# read forward\n",
    "fwd = mystring[0:len(mystring)]\n",
    "# read backward\n",
    "bw = mystring[-1:-(len(mystring)+1):-1]\n",
    "if fwd==bw:\n",
    "    print(mystring + \" is palindrome\")\n",
    "else:\n",
    "    print(mystring + \" is not palindrome\")\n"
   ]
  }
 ],
 "metadata": {
  "kernelspec": {
   "display_name": "Python 3",
   "language": "python",
   "name": "python3"
  },
  "language_info": {
   "codemirror_mode": {
    "name": "ipython",
    "version": 3
   },
   "file_extension": ".py",
   "mimetype": "text/x-python",
   "name": "python",
   "nbconvert_exporter": "python",
   "pygments_lexer": "ipython3",
   "version": "3.7.4"
  }
 },
 "nbformat": 4,
 "nbformat_minor": 2
}
