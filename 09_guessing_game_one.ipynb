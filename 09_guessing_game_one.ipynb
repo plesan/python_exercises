{
 "cells": [
  {
   "cell_type": "markdown",
   "metadata": {},
   "source": [
    "## Exercise 9\n",
    "Generate a random number between 1 and 9 (including 1 and 9). Ask the use to guess the numner, then tell them whether they guessed too low, too high, ot exactly right."
   ]
  },
  {
   "cell_type": "code",
   "execution_count": 1,
   "metadata": {},
   "outputs": [],
   "source": [
    "# import library\n",
    "import random"
   ]
  },
  {
   "cell_type": "code",
   "execution_count": null,
   "metadata": {},
   "outputs": [],
   "source": [
    "# generate a random number between 1 and 9\n",
    "number = random.randint(1,9)\n",
    "print(\"random number is \" + str(number))\n",
    "\n",
    "guess = 0\n",
    "count = 0\n",
    "while guess != number and guess != \"exit\":   \n",
    "    # ask a user to give a number\n",
    "    guess = input(\"please give a number? \")\n",
    "    guess = int(guess)\n",
    "    \n",
    "    if guess == \"exit\":\n",
    "        break\n",
    "        \n",
    "    count += 1\n",
    "    \n",
    "    if(number == int(guess)):\n",
    "        print(\"you'are right after trying \" + str(count) + \"time\")\n",
    "    elif(number < int(guess)):\n",
    "        print(\"your number is higher, try another.\")\n",
    "    else:\n",
    "        print(\"your number is lowze, try another.\")"
   ]
  },
  {
   "cell_type": "code",
   "execution_count": null,
   "metadata": {},
   "outputs": [],
   "source": []
  }
 ],
 "metadata": {
  "kernelspec": {
   "display_name": "Python 3",
   "language": "python",
   "name": "python3"
  },
  "language_info": {
   "codemirror_mode": {
    "name": "ipython",
    "version": 3
   },
   "file_extension": ".py",
   "mimetype": "text/x-python",
   "name": "python",
   "nbconvert_exporter": "python",
   "pygments_lexer": "ipython3",
   "version": "3.7.4"
  }
 },
 "nbformat": 4,
 "nbformat_minor": 2
}
