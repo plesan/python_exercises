{
 "cells": [
  {
   "cell_type": "markdown",
   "metadata": {},
   "source": [
    "## EXercise 15\n",
    "\n",
    "Write a program (using function) that asks the user for a long string containing multuple words. Print back to the use the same string, except with the words in backwards order. \n",
    "\n",
    "For example:\n",
    "My name is Nicol\n",
    "\n",
    "Then I would see\n",
    "\n",
    "Nicol is name My"
   ]
  },
  {
   "cell_type": "code",
   "execution_count": 1,
   "metadata": {},
   "outputs": [],
   "source": [
    "# function generates string\n",
    "def generate_string():\n",
    "    s = (input(\"give a string please: \"))\n",
    "    return(s)"
   ]
  },
  {
   "cell_type": "code",
   "execution_count": 3,
   "metadata": {},
   "outputs": [
    {
     "data": {
      "text/plain": [
       "'a*b*c'"
      ]
     },
     "execution_count": 3,
     "metadata": {},
     "output_type": "execute_result"
    }
   ],
   "source": [
    "# join string\n",
    "l = ['a', 'b', 'c']\n",
    "result = \"*\".join(l)\n",
    "result"
   ]
  },
  {
   "cell_type": "code",
   "execution_count": 13,
   "metadata": {},
   "outputs": [],
   "source": [
    "# function reverse word order\n",
    "def reverseOrder(l):\n",
    "    l2 = ' '.join(l[::-1])\n",
    "    return l2"
   ]
  },
  {
   "cell_type": "code",
   "execution_count": 18,
   "metadata": {},
   "outputs": [
    {
     "name": "stdout",
     "output_type": "stream",
     "text": [
      "give a string please: my name is cici\n",
      "['my', 'name', 'is', 'cici']\n",
      "cici is name my\n"
     ]
    }
   ],
   "source": [
    "# Example\n",
    "s1 = generate_string()\n",
    "s1 = s1.split()\n",
    "print(s1)\n",
    "tmp = reverseOrder(s1)\n",
    "print(tmp)"
   ]
  },
  {
   "cell_type": "code",
   "execution_count": null,
   "metadata": {},
   "outputs": [],
   "source": []
  }
 ],
 "metadata": {
  "kernelspec": {
   "display_name": "Python 3",
   "language": "python",
   "name": "python3"
  },
  "language_info": {
   "codemirror_mode": {
    "name": "ipython",
    "version": 3
   },
   "file_extension": ".py",
   "mimetype": "text/x-python",
   "name": "python",
   "nbconvert_exporter": "python",
   "pygments_lexer": "ipython3",
   "version": "3.7.4"
  }
 },
 "nbformat": 4,
 "nbformat_minor": 2
}
