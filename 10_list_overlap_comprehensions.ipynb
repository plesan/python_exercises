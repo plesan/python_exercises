{
 "cells": [
  {
   "cell_type": "code",
   "execution_count": 17,
   "metadata": {},
   "outputs": [],
   "source": [
    "## randomly generate two lists\n",
    "import random"
   ]
  },
  {
   "cell_type": "code",
   "execution_count": 6,
   "metadata": {},
   "outputs": [],
   "source": [
    "list1 = []\n",
    "for i in range(1,10):\n",
    "    x = random.randint(1,10)\n",
    "    list1.append(x)"
   ]
  },
  {
   "cell_type": "code",
   "execution_count": 16,
   "metadata": {},
   "outputs": [],
   "source": [
    "list2 =[random.randint(1,10) for x in range(1,10) ]"
   ]
  },
  {
   "cell_type": "code",
   "execution_count": 24,
   "metadata": {},
   "outputs": [
    {
     "data": {
      "text/plain": [
       "[5, 10, 15, 10, 20, 30, 15, 30, 45]"
      ]
     },
     "execution_count": 24,
     "metadata": {},
     "output_type": "execute_result"
    }
   ],
   "source": [
    "# example\n",
    "x = [1,2,3]\n",
    "y = [5,10,15]\n",
    "allproducts = [a*b for a in x for b in y]\n",
    "allproducts"
   ]
  },
  {
   "cell_type": "code",
   "execution_count": 26,
   "metadata": {},
   "outputs": [
    {
     "data": {
      "text/plain": [
       "[5, 15, 15, 45]"
      ]
     },
     "execution_count": 26,
     "metadata": {},
     "output_type": "execute_result"
    }
   ],
   "source": [
    "# a more complicated example with list comprehension\n",
    "x = [1,2,3]\n",
    "y = [5,10,15]\n",
    "customlist = [a*b for a in x for b in y if a*b%2 != 0] # only odd products are added to the list\n",
    "customlist"
   ]
  },
  {
   "cell_type": "code",
   "execution_count": 28,
   "metadata": {},
   "outputs": [
    {
     "data": {
      "text/plain": [
       "[37, 65, 21, 88, 20]"
      ]
     },
     "execution_count": 28,
     "metadata": {},
     "output_type": "execute_result"
    }
   ],
   "source": [
    "# random numbers\n",
    "a = random.sample(range(100), 5)\n",
    "a"
   ]
  },
  {
   "cell_type": "markdown",
   "metadata": {},
   "source": [
    "## Exercise 10\n",
    "Generate 2 lists and write a program that returns a list that contains only the elements that are common between the lists."
   ]
  },
  {
   "cell_type": "code",
   "execution_count": 42,
   "metadata": {},
   "outputs": [
    {
     "name": "stdout",
     "output_type": "stream",
     "text": [
      "list1 [8, 9, 7, 2, 5]\n",
      "list2 [0, 6, 4, 2, 7]\n",
      "the common between two lists: [7, 2]\n"
     ]
    }
   ],
   "source": [
    "# generate randomly 2 lists\n",
    "l1 = random.sample(range(10),5)\n",
    "l2 = random.sample(range(10),5)\n",
    "print(\"list1 \" + str(l1))\n",
    "print(\"list2 \" + str(l2))\n",
    "res = [a for a in l1 for b in l2 if a==b]\n",
    "print(\"the common elements between two lists: \" + str(res))"
   ]
  }
 ],
 "metadata": {
  "kernelspec": {
   "display_name": "Python 3",
   "language": "python",
   "name": "python3"
  },
  "language_info": {
   "codemirror_mode": {
    "name": "ipython",
    "version": 3
   },
   "file_extension": ".py",
   "mimetype": "text/x-python",
   "name": "python",
   "nbconvert_exporter": "python",
   "pygments_lexer": "ipython3",
   "version": "3.7.4"
  }
 },
 "nbformat": 4,
 "nbformat_minor": 2
}
