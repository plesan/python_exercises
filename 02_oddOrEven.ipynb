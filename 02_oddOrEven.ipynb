{
 "cells": [
  {
   "cell_type": "markdown",
   "metadata": {},
   "source": [
    "## Exercice 2\n",
    "\n",
    "Ask the user for a number. depending on whether the number is even or odd, print out an appropirate message to the user."
   ]
  },
  {
   "cell_type": "code",
   "execution_count": 22,
   "metadata": {},
   "outputs": [
    {
     "name": "stdout",
     "output_type": "stream",
     "text": [
      "Give a number please: 0\n",
      "Give one number to divide by: 1\n",
      "the number given: 0 divides by 1 is 0; is an even number\n"
     ]
    }
   ],
   "source": [
    "num = input(\"Give a number please: \")\n",
    "check = input(\"Give one number to divide by: \")\n",
    "mod = int(num) % int(check)\n",
    "\n",
    "\n",
    "if mod == 0:\n",
    "    print(\"the number given: \" + str(num) + \" divides by \" + str(check) + \" is \" + str(mod) + \"; is an even number\")\n",
    "else: \n",
    "    print(\"the number given: \" + str(num) + \" divides by\" + str(check) + \" is \" + str(mod) + \"; is an odd number\")"
   ]
  }
 ],
 "metadata": {
  "kernelspec": {
   "display_name": "Python 3",
   "language": "python",
   "name": "python3"
  },
  "language_info": {
   "codemirror_mode": {
    "name": "ipython",
    "version": 3
   },
   "file_extension": ".py",
   "mimetype": "text/x-python",
   "name": "python",
   "nbconvert_exporter": "python",
   "pygments_lexer": "ipython3",
   "version": "3.7.4"
  }
 },
 "nbformat": 4,
 "nbformat_minor": 2
}
