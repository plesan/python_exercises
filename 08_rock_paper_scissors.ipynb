{
 "cells": [
  {
   "cell_type": "markdown",
   "metadata": {},
   "source": [
    "The rules\n",
    "* rock beats scissors\n",
    "* scissors bears paper\n",
    "* paper beats rock"
   ]
  },
  {
   "cell_type": "markdown",
   "metadata": {},
   "source": [
    "## Break statements\n",
    "A break statement stops the execution of a loop before the original condition is met. "
   ]
  },
  {
   "cell_type": "code",
   "execution_count": 2,
   "metadata": {},
   "outputs": [
    {
     "name": "stdout",
     "output_type": "stream",
     "text": [
      "Enter your command: hello\n",
      "you typed hello\n",
      "Enter your command: hello\n",
      "you typed hello\n",
      "Enter your command: hi\n",
      "you typed hi\n",
      "Enter your command: hehehe\n",
      "you typed hehehe\n",
      "Enter your command: quit\n"
     ]
    }
   ],
   "source": [
    "while True:\n",
    "    usr_command = input(\"Enter your command: \")\n",
    "    if (usr_command == \"quit\"):\n",
    "        break\n",
    "    else:\n",
    "        print(\"you typed \" + usr_command)"
   ]
  },
  {
   "cell_type": "code",
   "execution_count": null,
   "metadata": {},
   "outputs": [],
   "source": [
    "player1 = input(\"what do you give?\")\n",
    "player2 = input(\"what is yours?\")\n",
    "#def compare(player1, player2):\n",
    "    if (player1 == player2:\n",
    "        print(\"it is equal\")\n",
    "    elif (player1 == \"rock\"):\n",
    "        if (player2 == \"scissors\"):\n",
    "            print(\"player1 wins!\")\n",
    "        else:\n",
    "            print(\"player2 wins!\")\n",
    "\n",
    "    elif (player1 == \"scissors\"):\n",
    "        if (player2 == \"rock\"):\n",
    "            print(\"player2 wins!\")\n",
    "        else:\n",
    "            print(\"player1 wins!\")\n",
    "            \n",
    "    elif (player1 == \"paper\"):\n",
    "        if (player2 == \"scissors\"):\n",
    "            print(\"player2 wins!\")\n",
    "        else:\n",
    "            print(\"player1 wins!\")\n",
    "    else:\n",
    "        print(\"invalide input!\")   \n",
    "        sys.exit()"
   ]
  },
  {
   "cell_type": "code",
   "execution_count": null,
   "metadata": {},
   "outputs": [],
   "source": [
    "while True:\n",
    "    usr_command = input(\"do you want to play?\")\n",
    "    if (usr_command == \"no\"):\n",
    "        break\n",
    "    else:\n",
    "        player1 = input(\"player1: \")\n",
    "        player2 = input(\"player2: \")\n",
    "        print(compare(player1, player2))"
   ]
  },
  {
   "cell_type": "code",
   "execution_count": null,
   "metadata": {},
   "outputs": [],
   "source": []
  }
 ],
 "metadata": {
  "kernelspec": {
   "display_name": "Python 3",
   "language": "python",
   "name": "python3"
  },
  "language_info": {
   "codemirror_mode": {
    "name": "ipython",
    "version": 3
   },
   "file_extension": ".py",
   "mimetype": "text/x-python",
   "name": "python",
   "nbconvert_exporter": "python",
   "pygments_lexer": "ipython3",
   "version": "3.7.4"
  }
 },
 "nbformat": 4,
 "nbformat_minor": 2
}
